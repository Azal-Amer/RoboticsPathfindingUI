{
 "cells": [
  {
   "cell_type": "markdown",
   "metadata": {},
   "source": [
    "# Objectives\n",
    "- Describe a driving path using a belzier\n",
    "    - I need to be able to randomly generate belzier curves\n",
    "    - I can use the nature of belzier curves being envelopes of non-discrete lines to my advantedge. \n",
    "    - Instead of getting the envelope, I can work backwards to just take the distance formula at each point\n",
    "- Interpolate the equation of that belzier\n",
    "- Export the interpolated lines into a graph\n",
    "- Turn the lines into relative movement instruction\n",
    "- Translate the relative movement instruction into code\n"
   ]
  },
  {
   "cell_type": "markdown",
   "metadata": {},
   "source": [
    "## Generating Test cases\n",
    "Implemented the below formula to generate random length bezier curves\n",
    "<img src=\"belzier_formula.jpg\" />"
   ]
  },
  {
   "cell_type": "code",
   "execution_count": 303,
   "metadata": {},
   "outputs": [],
   "source": [
    "import scipy\n",
    "import random\n",
    "import math\n",
    "# Make a list with length n, with random points in the range [0,10]\n",
    "import numpy as np\n",
    "import matplotlib.pyplot as plt\n",
    "size = random.randint(5, 10)\n",
    "pointList = np.random.rand(size,2)*80\n",
    "# t goes up to 1\n",
    "interp = .01\n",
    "def belzierPoint(pointList,t):\n",
    "    x_i = 0\n",
    "    y_i = 0\n",
    "    n = len(pointList)\n",
    "    # So then loop through the interpolate t from 0 to 1 by .1\n",
    "    for i, point in enumerate(pointList):\n",
    "        x_i += scipy.special.binom(n,i)*((1-t)**(n-i))*t**i*point[0]\n",
    "        y_i += scipy.special.binom(n,i)*((1-t)**(n-i))*t**i*point[1]\n",
    "    return x_i,y_i\n",
    "# bexierPoint calculates the values in the curve at a certain point\n",
    "def belzier(pointList, t = None):\n",
    "    x,y = [],[]\n",
    "    if t == None:\n",
    "        for t in np.arange(0, 1+interp, interp):\n",
    "            x_i,y_i = belzierPoint(pointList,t)\n",
    "            x.append(x_i)\n",
    "            y.append(y_i)\n",
    "# belzier constructs the whole curve\n",
    "\n",
    "    return x,y\n",
    "x,y = belzier(pointList)"
   ]
  },
  {
   "cell_type": "code",
   "execution_count": null,
   "metadata": {},
   "outputs": [],
   "source": []
  },
  {
   "cell_type": "markdown",
   "metadata": {},
   "source": [
    "## Generating line interpolation\n",
    "The density of \"t\" is directly proportional to the amount of changes in the curve's area, so that can be used to implicitly apply the secant lines"
   ]
  },
  {
   "cell_type": "code",
   "execution_count": 304,
   "metadata": {},
   "outputs": [],
   "source": [
    "linePoints =[]\n",
    "lines = []\n",
    "numLines = 5\n",
    "lineInterp = 1/numLines\n",
    "driveInstruction= []\n",
    "\n",
    "import math\n",
    "for i in np.arange(0, 1+lineInterp, lineInterp):\n",
    "    # \"i\" is not an integer, it seems to be a sliced float, thus I need to remap it across the length to get the objective point\n",
    "    x_i,y_i = belzierPoint(pointList,i)\n",
    "    # this calculation is not neccecarily efficient, but as the belzier mapping ignores the driving variable t, I do not want to change it. \n",
    "    # Additionally, the value at t that I want might not have been calculated in my step size, and going to the nearest value is annoying\n",
    "    linePoints.append([x_i,y_i])\n",
    "vectors = []\n",
    "# This below loop just takes the points as an input, and spits out the vectors\n",
    "for i in range(len(linePoints)):\n",
    "    if(i!=0):\n",
    "        \n",
    "        deltaX= linePoints[i][0]-linePoints[i-1][0]\n",
    "        deltaY = linePoints[i][1]-linePoints[i-1][1]\n",
    "\n",
    "        # the magnitude of these guys, and then the inverse tangent of them\n",
    "        # POLAR VECTOR COORDINATES NOW, EASIER\n",
    "        magnitude = (deltaX**2+deltaY**2)**.5\n",
    "        angle = (math.atan2(deltaY,deltaX))\n",
    "        # Usage of the atan2 function is key here, as it automaps the range to [-pi,pi] for corrent outputs, atan would cause sporadic flipping of values\n",
    "        vectors.append([magnitude,angle])\n",
    "# driveInstruction.append([,angle])"
   ]
  },
  {
   "attachments": {},
   "cell_type": "markdown",
   "metadata": {},
   "source": [
    "# Calculation Reversal for Graph Checking\n"
   ]
  },
  {
   "cell_type": "code",
   "execution_count": 305,
   "metadata": {},
   "outputs": [
    {
     "name": "stdout",
     "output_type": "stream",
     "text": [
      "\n",
      " [[46.360111484480704, 14.411819381812014], [46.666571607235134, 23.584393796971533], [36.44686058153578, 14.688546155971716], [29.340990833177507, 13.804794995143252], [27.40003582825313, 15.600112853826166], [0.0, -8.881784197001252e-15]]\n",
      "\n",
      " [[46.360111484480704, 14.411819381812014], [46.666571607235134, 23.584393796971533], [36.44686058153578, 14.688546155971718], [29.340990833177507, 13.804794995143254], [27.40003582825313, 15.600112853826168], [0.0, 0.0]]\n"
     ]
    }
   ],
   "source": [
    "projectedPoints = [linePoints[0]]\n",
    "\n",
    "for i in range(len(vectors)):\n",
    "    # print(\"\\n\",projectedPoints)\n",
    "    # print(\"\\n\",linePoints)\n",
    "    deltaX= vectors[i][0]*math.cos((vectors[i][1]))\n",
    "    deltaY = vectors[i][0]*math.sin((vectors[i][1]))\n",
    "\n",
    "    projectedX=projectedPoints[i][0]+deltaX\n",
    "    projectedY = projectedPoints[i][1]+deltaY\n",
    "    # print(i,projectedPoints[i])\n",
    "    projectedPoints.append([projectedX,projectedY])\n",
    "print(\"\\n\",projectedPoints)\n",
    "print(\"\\n\",linePoints)\n"
   ]
  },
  {
   "cell_type": "markdown",
   "metadata": {},
   "source": [
    "## Similar Slope Merging\n",
    "Some curves may still end up with two nearly continuous secant lines, so this code merges them if the angle is within 75%.\n",
    "This uses recursion "
   ]
  },
  {
   "cell_type": "code",
   "execution_count": 306,
   "metadata": {},
   "outputs": [],
   "source": [
    "def reduce():\n",
    "    for i in range(len(lines)):\n",
    "        if(i!=0 and i<len(lines)-1):\n",
    "            slope1 = (lines[i-1][0][1]-lines[i-1][1][1])/(lines[i-1][0][0]-lines[i-1][1][0])\n",
    "            slope2 = (lines[i][0][1]-lines[i][1][1])/(lines[i][0][0]-lines[i][1][0])\n",
    "            avg = ((slope1+slope2)/2)\n",
    "            percent_diff=abs(slope1-slope2)/avg\n",
    "            if(abs(percent_diff)<.75):\n",
    "                lines[i-1]=[lines[i-1][0],lines[i][1]]\n",
    "                lines.pop(i)\n",
    "                linePoints.pop(i)\n",
    "                reduce()\n",
    "            length = math.sqrt((lines[i][0][1]-lines[i][1][1])**2+(lines[i][1][0]-lines[i][0][0])**2)\n",
    "            if length < 1:\n",
    "                print(length)\n",
    "                lines[i-1]=[lines[i-1][0],lines[i][1]]\n",
    "                lines.pop(i)\n",
    "                linePoints.pop(i)\n",
    "                reduce()\n",
    "reduce()"
   ]
  },
  {
   "cell_type": "markdown",
   "metadata": {},
   "source": [
    "## Making motion instructions\n",
    "Compiling all the data into step by step instructions\n",
    "\n",
    "The motion information consists of step rotation, step length, and rotation type\n"
   ]
  },
  {
   "cell_type": "markdown",
   "metadata": {},
   "source": [
    "## Graphing\n",
    "Taking all the data currently calculated, and making it viewable"
   ]
  },
  {
   "cell_type": "markdown",
   "metadata": {},
   "source": [
    "### Checking driving Instructions\n",
    "- This code takes the parsed driving instructions and plots them ontop the curve. This was to double check that the conversion was done properly\n",
    "- Additionally the code dumps the rotation-types points into lists so they can be individually plotted"
   ]
  },
  {
   "cell_type": "code",
   "execution_count": 307,
   "metadata": {},
   "outputs": [],
   "source": [
    "import math\n",
    "extraPoints = []\n",
    "omniPoints = []\n",
    "rotationPoints=[]\n",
    "for i in range(len(driveInstruction)):\n",
    "    if i!=0:\n",
    "        t1 = angl\n",
    "        \n",
    "        angl = math.radians(driveInstruction[i][1])\n",
    "        position[0]+=driveInstruction[i][0]*math.cos(angl)\n",
    "        position[1]+=driveInstruction[i][0]*math.sin(angl)\n",
    "        extraPoints.append([position[0],position[1]])\n",
    "        if driveInstruction[i][2]=='R':\n",
    "            rotationPoints.append([position[0],position[1]])\n",
    "        else:\n",
    "            omniPoints.append([position[0],position[1]])\n",
    "    else:\n",
    "        position = [linePoints[0][0],linePoints[0][1]]\n",
    "        extraPoints.append(driveInstruction[0][0])\n",
    "        angl = math.radians(driveInstruction[0][1])\n",
    "\n",
    "# Theres a omni turn, and a rotation turn"
   ]
  },
  {
   "cell_type": "markdown",
   "metadata": {},
   "source": [
    "### Plotting\n",
    "The below code takes all the calculated data and puts it onto a colorcoded map for readability. This plot represents the analogue for what the GUI will eventually look like"
   ]
  },
  {
   "cell_type": "code",
   "execution_count": 308,
   "metadata": {},
   "outputs": [
    {
     "data": {
      "image/png": "[encoded data removed]",
      "text/plain": [
       "<Figure size 640x480 with 1 Axes>"
      ]
     },
     "metadata": {},
     "output_type": "display_data"
    }
   ],
   "source": [
    "from matplotlib.widgets import Slider, Button, RadioButtons\n",
    "plt.plot(x,y,label='Input Curve',linewidth=10,color= 'lightblue',zorder=1)\n",
    "\n",
    "plt.title(str(size)+' Degree Random Bezier Curve ') \n",
    "\n",
    "\n",
    "x_l,y_l = zip(*projectedPoints)\n",
    "ax = plt.gca()\n",
    "plt.scatter(x_l,y_l,color = 'g',zorder=2)\n",
    "plt.plot(x_l,y_l,color = 'g',label = 'Robot Drive Path',zorder=2)\n",
    "\n",
    "\n",
    "# Creating direction arrows\n",
    "for i in range(len(linePoints)):\n",
    "    if i<len(linePoints)-1:\n",
    "        plt.arrow(x_l[i],y_l[i],(x_l[i+1]-x_l[i])/2,(y_l[i+1]-y_l[i])/2,head_width=0.2,head_length=0.2,color='g',zorder=3)\n",
    "if len(rotationPoints)>0:\n",
    "    x_rotation,y_rotation = zip(*rotationPoints)\n",
    "    plt.scatter(x_rotation,y_rotation,color= 'r',label = 'Rotation Points',zorder = 3)\n",
    "\n",
    "if(len(omniPoints)>0):\n",
    "    x_omni,y_omni = zip(*omniPoints)\n",
    "    plt.scatter(x_omni,y_omni,color= 'b',label = 'Omni Points',zorder = 3)\n",
    "\n",
    "plt.legend()\n",
    "plt.savefig('Driving Path.png',dpi = 100,facecolor='w', edgecolor='w',orientation='landscape',transparent=False, bbox_inches='tight', pad_inches=0.1)\n"
   ]
  },
  {
   "cell_type": "markdown",
   "metadata": {},
   "source": [
    "## Translating movement into Java\n",
    "- Write the driveInstruct list into a basic textfile\n",
    "- Later get that into java\n"
   ]
  },
  {
   "cell_type": "code",
   "execution_count": 309,
   "metadata": {},
   "outputs": [],
   "source": [
    "line = \"A.EndDrive(10,0,0,dPower,0)\"\n",
    "def encDrive(d,speed,time,tab):\n",
    "    tab_string = '\\t'*tab\n",
    "    command =  f\"r.AEncDrive({d},0,{speed},0,{time});\"\n",
    "    return tab_string +command\n",
    "def encTurn(r,speed,time,tab):\n",
    "    tab_string = '\\t'*tab\n",
    "    command = f\"r.gyroTurnAbsolute({r},{speed},{time});\"\n",
    "    telemetry = f\"\\n{tab_string}telemetry.addData(\\\"heading:\\\",r.imu.getHeading());\"+tab_string+f\"\\n{tab_string}telemetry.update();\"\n",
    "    telemetry += f\"\\n{tab_string}telemetry.addData(\\\"turn:\\\",{r}-r.imu.getHeading());\"\n",
    "    return tab_string + command+telemetry\n",
    "tab = 2\n",
    "\n"
   ]
  },
  {
   "cell_type": "code",
   "execution_count": 310,
   "metadata": {},
   "outputs": [],
   "source": [
    "def instructionWrite(tab):\n",
    "    \n",
    "    for i,instruction in enumerate(driveInstruction):\n",
    "        print(instruction)\n",
    "        if i==0:\n",
    "            secondfile.write(f'\\n\\t\\t// X{instruction[0][0]} Y{instruction[0][1]} R{instruction[1]}-{instruction[2]}\\n')\n",
    "            # secondfile.write(encTurn(instruction[1],.5,4000,tab)+'\\n')\n",
    "        else:\n",
    "            # f.write(f'\\nD{instruction[0]} R{instruction[1]}-{instruction[2]}')\n",
    "            secondfile.write('\\n'+encTurn(instruction[1],.2,4000,tab)+'\\n')\n",
    "            secondfile.write( encDrive(instruction[0],.5,4000,tab)+\"\\n\")\n",
    "    secondfile.write(f'\\t}} \\n}}') "
   ]
  },
  {
   "cell_type": "code",
   "execution_count": 311,
   "metadata": {},
   "outputs": [
    {
     "name": "stdout",
     "output_type": "stream",
     "text": [
      "[]\n"
     ]
    }
   ],
   "source": [
    "print(driveInstruction)"
   ]
  },
  {
   "cell_type": "code",
   "execution_count": 312,
   "metadata": {},
   "outputs": [],
   "source": [
    "# Copy text from basic code.txt to a new file, \n",
    "# open both files\n",
    "dir = 'C:\\\\Users\\\\amer_\\\\OneDrive - Greenhill School\\\\Documents\\\\GitHub\\\\ViridianRobotController\\\\TeamCode\\\\src\\\\main\\\\java\\\\org\\\\firstinspires\\\\ftc\\\\teamcode\\\\Autons\\\\'\n",
    "with open('basicCode.txt','r') as firstfile, open(dir+'PathDriver.java','w') as secondfile:\n",
    "      \n",
    "    # read content from first file\n",
    "    for line in firstfile:\n",
    "               \n",
    "             # write content to second file\n",
    "             secondfile.write(line)\n",
    "    instructionWrite(tab)"
   ]
  },
  {
   "cell_type": "markdown",
   "metadata": {},
   "source": []
  }
 ],
 "metadata": {
  "kernelspec": {
   "display_name": "Python 3",
   "language": "python",
   "name": "python3"
  },
  "language_info": {
   "codemirror_mode": {
    "name": "ipython",
    "version": 3
   },
   "file_extension": ".py",
   "mimetype": "text/x-python",
   "name": "python",
   "nbconvert_exporter": "python",
   "pygments_lexer": "ipython3",
   "version": "3.10.0 (v3.10.0:b494f5935c, Oct  4 2021, 14:59:19) [Clang 12.0.5 (clang-1205.0.22.11)]"
  },
  "orig_nbformat": 4,
  "vscode": {
   "interpreter": {
    "hash": "aee8b7b246df8f9039afb4144a1f6fd8d2ca17a180786b69acc140d282b71a49"
   }
  }
 },
 "nbformat": 4,
 "nbformat_minor": 2
}
