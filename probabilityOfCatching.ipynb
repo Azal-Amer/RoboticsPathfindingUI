{
 "cells": [
  {
   "cell_type": "code",
   "execution_count": 3,
   "metadata": {},
   "outputs": [],
   "source": [
    "import random \n",
    "import math\n",
    "\n"
   ]
  },
  {
   "cell_type": "code",
   "execution_count": 8,
   "metadata": {},
   "outputs": [],
   "source": [
    "\n",
    "def tester(length,width,r,xlines,ylines):\n",
    "    intersections = 0\n",
    "    h = random.random()*(length-2*r)+r\n",
    "    k = random.random()*(width-2*r)+r\n",
    "    # pick a random point in the area\n",
    "    # print(' \\n \\nNEW LINE')\n",
    "    for i in range(1,len(xlines)-1):\n",
    "        \n",
    "        if abs(h-xlines[i])<r:\n",
    "            # if the point is closer to the rubber band than the radius of it's circle\n",
    "            intersections +=1\n",
    "\n",
    "            # print('---\\nx')\n",
    "            # print(xlines[i])\n",
    "            # print(h)\n",
    "\n",
    "    for i in range(1,len(ylines)-1):\n",
    "        if abs(k-ylines[i])<r:\n",
    "            # if the point is closer to the rubber band than the radius of it's circle\n",
    "            intersections +=1\n",
    "\n",
    "            # print('--\\n y')\n",
    "            # print(ylines[i])\n",
    "            # print(k)\n",
    "    if intersections>0:\n",
    "        intersections = 1\n",
    "        # im too tired to make this a boolean \n",
    "    return(intersections)"
   ]
  },
  {
   "cell_type": "code",
   "execution_count": 5,
   "metadata": {},
   "outputs": [],
   "source": [
    "length = 304.8\n",
    "width = 80\n",
    "diameter = 31.0\n",
    "r=diameter/2\n",
    "n_x=4\n",
    "n_y = 1\n",
    "# number of rubber bands across each axis\n",
    "\n",
    "intersections=0\n",
    "\n",
    "xlines = []\n",
    "ylines = []\n",
    "for i in range(n_x+2):\n",
    "    xlines.append(i*(length/(n_x+1)))\n",
    "for i in range(n_y+2):\n",
    "    ylines.append(i*(width/(n_y+1)))"
   ]
  },
  {
   "cell_type": "code",
   "execution_count": 6,
   "metadata": {},
   "outputs": [
    {
     "name": "stdout",
     "output_type": "stream",
     "text": [
      "[0.0, 60.96, 121.92, 182.88, 243.84, 304.8]\n",
      "[0.0, 40.0, 80.0]\n"
     ]
    }
   ],
   "source": [
    "print(xlines)\n",
    "print(ylines)"
   ]
  },
  {
   "cell_type": "code",
   "execution_count": 9,
   "metadata": {},
   "outputs": [
    {
     "name": "stdout",
     "output_type": "stream",
     "text": [
      "0.801\n"
     ]
    }
   ],
   "source": [
    "total_hits=0\n",
    "runs = 1000\n",
    "for i in range(runs):\n",
    "    intersections = tester(length,width,r,xlines,ylines)\n",
    "    total_hits +=(intersections)\n",
    "print(total_hits/runs)"
   ]
  }
 ],
 "metadata": {
  "kernelspec": {
   "display_name": "Python 3.8.3 64-bit",
   "language": "python",
   "name": "python3"
  },
  "language_info": {
   "codemirror_mode": {
    "name": "ipython",
    "version": 3
   },
   "file_extension": ".py",
   "mimetype": "text/x-python",
   "name": "python",
   "nbconvert_exporter": "python",
   "pygments_lexer": "ipython3",
   "version": "3.8.3"
  },
  "orig_nbformat": 4,
  "vscode": {
   "interpreter": {
    "hash": "399a9c608b2f4ad1606b74c87b44ed9587e33e7acf53f21b681877e5d150477d"
   }
  }
 },
 "nbformat": 4,
 "nbformat_minor": 2
}
